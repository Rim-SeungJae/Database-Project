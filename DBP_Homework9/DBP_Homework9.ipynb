{
  "nbformat": 4,
  "nbformat_minor": 0,
  "metadata": {
    "colab": {
      "provenance": []
    },
    "kernelspec": {
      "name": "python3",
      "display_name": "Python 3"
    },
    "language_info": {
      "name": "python"
    }
  },
  "cells": [
    {
      "cell_type": "markdown",
      "source": [],
      "metadata": {
        "id": "SVUGbor4bNhJ"
      }
    },
    {
      "cell_type": "markdown",
      "source": [
        "# Database Project (SWE3033) (Fall 2024)\n",
        "# Homework #9 (50pts, Due date: 12/3)"
      ],
      "metadata": {
        "id": "52X7q87HsboH"
      }
    },
    {
      "cell_type": "markdown",
      "source": [
        "**Instruction:** In this homework, we provide you with a jupyter notebook file (DBP_Homework9.ipynb). You should follow the instructions in these documents carefully."
      ],
      "metadata": {
        "id": "NzErA9fRsx3C"
      }
    },
    {
      "cell_type": "markdown",
      "source": [
        "**Submit two files as follows**:\n",
        "- `DBP_Homework9_StudentID_StudentName.zip`\n",
        "\t- `DBP_Homework9_StudentID_StudentName.ipynb`\n",
        "\t- `DBP_Homework9_StudentID_StudentName.pdf`\n",
        "   "
      ],
      "metadata": {
        "id": "adqh9LZvs1Sp"
      }
    },
    {
      "cell_type": "code",
      "execution_count": 1,
      "metadata": {
        "id": "wmsaydgGr9HX",
        "colab": {
          "base_uri": "https://localhost:8080/"
        },
        "outputId": "4dd42f0d-f9e3-4aca-e41f-e69ff0abacc0"
      },
      "outputs": [
        {
          "output_type": "stream",
          "name": "stdout",
          "text": [
            "\u001b[2K   \u001b[90m━━━━━━━━━━━━━━━━━━━━━━━━━━━━━━━━━━━━━━━━\u001b[0m \u001b[32m1.0/1.0 MB\u001b[0m \u001b[31m14.0 MB/s\u001b[0m eta \u001b[36m0:00:00\u001b[0m\n",
            "\u001b[2K   \u001b[90m━━━━━━━━━━━━━━━━━━━━━━━━━━━━━━━━━━━━━━━━\u001b[0m \u001b[32m1.2/1.2 MB\u001b[0m \u001b[31m14.9 MB/s\u001b[0m eta \u001b[36m0:00:00\u001b[0m\n",
            "\u001b[2K   \u001b[90m━━━━━━━━━━━━━━━━━━━━━━━━━━━━━━━━━━━━━━━━\u001b[0m \u001b[32m125.1/125.1 kB\u001b[0m \u001b[31m5.0 MB/s\u001b[0m eta \u001b[36m0:00:00\u001b[0m\n",
            "\u001b[2K   \u001b[90m━━━━━━━━━━━━━━━━━━━━━━━━━━━━━━━━━━━━━━━━\u001b[0m \u001b[32m2.4/2.4 MB\u001b[0m \u001b[31m31.9 MB/s\u001b[0m eta \u001b[36m0:00:00\u001b[0m\n",
            "\u001b[2K   \u001b[90m━━━━━━━━━━━━━━━━━━━━━━━━━━━━━━━━━━━━━━━━\u001b[0m \u001b[32m108.8/108.8 kB\u001b[0m \u001b[31m9.4 MB/s\u001b[0m eta \u001b[36m0:00:00\u001b[0m\n",
            "\u001b[2K   \u001b[90m━━━━━━━━━━━━━━━━━━━━━━━━━━━━━━━━━━━━━━━━\u001b[0m \u001b[32m409.5/409.5 kB\u001b[0m \u001b[31m7.6 MB/s\u001b[0m eta \u001b[36m0:00:00\u001b[0m\n",
            "\u001b[2K   \u001b[90m━━━━━━━━━━━━━━━━━━━━━━━━━━━━━━━━━━━━━━━━\u001b[0m \u001b[32m49.5/49.5 kB\u001b[0m \u001b[31m2.3 MB/s\u001b[0m eta \u001b[36m0:00:00\u001b[0m\n",
            "\u001b[?25h"
          ]
        }
      ],
      "source": [
        "!pip install -qU langchain langchain-groq tiktoken langgraph beautifulsoup4 langchain-community"
      ]
    },
    {
      "cell_type": "markdown",
      "source": [
        "# Note: Before submitting, you must delete the GROQ_API_KEY"
      ],
      "metadata": {
        "id": "Hw79lL0LsLpp"
      }
    },
    {
      "cell_type": "code",
      "source": [
        "GROQ_API_KEY = \"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\""
      ],
      "metadata": {
        "id": "4MdwBRCMsI3T"
      },
      "execution_count": 2,
      "outputs": []
    },
    {
      "cell_type": "code",
      "source": [
        "from langchain_groq import ChatGroq\n",
        "from langchain_core.prompts import PromptTemplate\n",
        "\n",
        "# Instantiation\n",
        "llm = ChatGroq(\n",
        "    model=\"llama-3.1-8b-instant\",\n",
        "    temperature=0, # This determines randomness\n",
        "    api_key=GROQ_API_KEY\n",
        ")"
      ],
      "metadata": {
        "id": "9UIyyJH9sDUO"
      },
      "execution_count": 3,
      "outputs": []
    },
    {
      "cell_type": "code",
      "source": [
        "from operator import itemgetter\n",
        "\n",
        "from langchain.schema import StrOutputParser\n",
        "from langchain.schema.runnable import RunnablePassthrough, RunnableLambda\n",
        "from langchain.chat_models import ChatGooglePalm\n",
        "from langchain.prompts import (\n",
        "    ChatPromptTemplate,\n",
        "    MessagesPlaceholder,\n",
        "    SystemMessagePromptTemplate,\n",
        "    HumanMessagePromptTemplate\n",
        ")\n",
        "from langchain.memory import ConversationBufferMemory"
      ],
      "metadata": {
        "id": "duwaLxvkB6kh"
      },
      "execution_count": 4,
      "outputs": []
    },
    {
      "cell_type": "markdown",
      "source": [
        "# 1."
      ],
      "metadata": {
        "id": "TwgMIl_Yut8s"
      }
    },
    {
      "cell_type": "markdown",
      "source": [
        "### 1-(a)."
      ],
      "metadata": {
        "id": "DD93-pRXAwTR"
      }
    },
    {
      "cell_type": "code",
      "source": [
        "### EDIT HERE ###\n",
        "\n",
        "prompt = ChatPromptTemplate(\n",
        "    messages=[\n",
        "        SystemMessagePromptTemplate.from_template(\"You are a nice chatbot having a conversation with a human.\"),\n",
        "        MessagesPlaceholder(variable_name=\"chat_history\"),\n",
        "        HumanMessagePromptTemplate.from_template(\"{question}\")\n",
        "    ]\n",
        ") # Use `ChatPromptTemplate`\n",
        "m = ConversationBufferMemory(\n",
        "    memory_key=\"chat_history\",\n",
        "    return_messages=True\n",
        ") # Use `ConversationaBufferMemory`\n",
        "c = (\n",
        "    {\n",
        "        \"question\": RunnablePassthrough(),\n",
        "        \"chat_history\": RunnableLambda(m.load_memory_variables) | itemgetter(\"chat_history\")\n",
        "    }\n",
        "    | prompt\n",
        "    | llm\n",
        ") # Hint: LCEL\n",
        "\n",
        "##################\n",
        "\n",
        "def pipeline(inputs_, c, m):\n",
        "    ### EDIT HERE ###\n",
        "    inputs = inputs_\n",
        "    response = c.invoke(inputs)\n",
        "    m.save_context(inputs, {\"output\": response.content})\n",
        "    ##################\n",
        "    print(response.content)"
      ],
      "metadata": {
        "id": "8KPt8gXDvJ3X"
      },
      "execution_count": 13,
      "outputs": []
    },
    {
      "cell_type": "markdown",
      "source": [
        "### Conversation 1"
      ],
      "metadata": {
        "id": "CNdAL3mkAdAw"
      }
    },
    {
      "cell_type": "code",
      "source": [
        "### EDIT HERE ###\n",
        "pipeline(\n",
        "    {\"question\": \"Hi, my name is Seungjae Rim. Can you recommend a place to travel in the USA? Please answer in 20 to 100 characters.\"}, c, m\n",
        ")\n",
        "#################"
      ],
      "metadata": {
        "id": "IpkReeEt9-Kw",
        "colab": {
          "base_uri": "https://localhost:8080/"
        },
        "outputId": "27730608-ea24-42ef-ea6b-27d77c1d4ec6"
      },
      "execution_count": 14,
      "outputs": [
        {
          "output_type": "stream",
          "name": "stdout",
          "text": [
            "Nice to meet you, Seungjae! Consider visiting Grand Canyon, Arizona - breathtaking views and stunning natural beauty.\n"
          ]
        }
      ]
    },
    {
      "cell_type": "markdown",
      "source": [
        "### Conversation 2"
      ],
      "metadata": {
        "id": "Fm2skh6bAjmC"
      }
    },
    {
      "cell_type": "code",
      "source": [
        "### EDIT HERE ###\n",
        "pipeline(\n",
        "    {\"question\": \"Actually, I've already been there. Can you recommend somewhere else?\"}, c, m\n",
        ")\n",
        "#################"
      ],
      "metadata": {
        "id": "vmavWY13AnJr",
        "colab": {
          "base_uri": "https://localhost:8080/"
        },
        "outputId": "edf38c72-2aab-4c18-ed9c-d9b48c1fc65f"
      },
      "execution_count": 15,
      "outputs": [
        {
          "output_type": "stream",
          "name": "stdout",
          "text": [
            "You've been to the Grand Canyon. How about Yellowstone National Park, Wyoming - geysers, hot springs, and diverse wildlife?\n"
          ]
        }
      ]
    },
    {
      "cell_type": "markdown",
      "source": [
        "### Conversation 3"
      ],
      "metadata": {
        "id": "UUi1EXLNAoNa"
      }
    },
    {
      "cell_type": "code",
      "source": [
        "### EDIT HERE ###\n",
        "pipeline(\n",
        "    {\"question\": \"Please tell me the representative symbols of Yellowstone National Park.\"}, c, m\n",
        ")\n",
        "#################"
      ],
      "metadata": {
        "id": "UQf3TYV5Appo",
        "colab": {
          "base_uri": "https://localhost:8080/"
        },
        "outputId": "5eeb0241-4714-435c-fa7d-5d24897977f6"
      },
      "execution_count": 16,
      "outputs": [
        {
          "output_type": "stream",
          "name": "stdout",
          "text": [
            "Yellowstone National Park's representative symbols include:\n",
            "\n",
            "1. The American Bison (also known as the American Buffalo)\n",
            "2. The Grizzly Bear\n",
            "3. The Bald Eagle\n",
            "4. The Cutthroat Trout (a native fish species)\n",
            "5. The Pronghorn Antelope\n"
          ]
        }
      ]
    },
    {
      "cell_type": "markdown",
      "source": [
        "### Conversation 4"
      ],
      "metadata": {
        "id": "-NLJ9XCcBAzT"
      }
    },
    {
      "cell_type": "code",
      "source": [
        "### EDIT HERE ###\n",
        "pipeline(\n",
        "    {\"question\": \"Are there any places in the city worth sightseeing other than natural scenery?\"}, c, m\n",
        ")\n",
        "#################"
      ],
      "metadata": {
        "id": "wjb0usyjA9sK",
        "colab": {
          "base_uri": "https://localhost:8080/"
        },
        "outputId": "c98ec43f-d0af-4ee2-c163-a7e7d8a40b0c"
      },
      "execution_count": 17,
      "outputs": [
        {
          "output_type": "stream",
          "name": "stdout",
          "text": [
            "Besides natural scenery, Yellowstone has some fascinating man-made attractions. \n",
            "\n",
            "1. The Old Faithful Inn: A historic hotel built in 1904, offering a glimpse into the park's early days.\n",
            "2. The Mammoth Hot Springs Hotel: A charming hotel with a rich history, built in 1937.\n",
            "3. The Grant Village Visitor Center: A hub for park information and exhibits showcasing the region's geology and wildlife.\n",
            "4. The Museum of the National Park Ranger: A unique museum showcasing the history of park rangers and their work in Yellowstone.\n",
            "\n",
            "These places offer a glimpse into the park's human history and culture.\n"
          ]
        }
      ]
    },
    {
      "cell_type": "markdown",
      "source": [
        "### Conversation 5"
      ],
      "metadata": {
        "id": "qzKgwp_mBBgP"
      }
    },
    {
      "cell_type": "code",
      "source": [
        "### EDIT HERE ###\n",
        "pipeline(\n",
        "    {\"question\": \"Please summarize all previous messages.\"}, c, m\n",
        ")\n",
        "#################"
      ],
      "metadata": {
        "id": "xZ0OnjvHA-T3",
        "colab": {
          "base_uri": "https://localhost:8080/"
        },
        "outputId": "cc5c67d1-950a-4469-ef45-c5ac5738e759"
      },
      "execution_count": 18,
      "outputs": [
        {
          "output_type": "stream",
          "name": "stdout",
          "text": [
            "Here's a summary of our conversation:\n",
            "\n",
            "- I recommended visiting Grand Canyon, Arizona, but you mentioned you've already been there.\n",
            "- I suggested visiting Yellowstone National Park, Wyoming, as an alternative.\n",
            "- I listed the representative symbols of Yellowstone National Park, including the American Bison, Grizzly Bear, Bald Eagle, Cutthroat Trout, and Pronghorn Antelope.\n",
            "- I mentioned some man-made attractions in the park worth sightseeing, such as the Old Faithful Inn, Mammoth Hot Springs Hotel, Grant Village Visitor Center, and the Museum of the National Park Ranger.\n"
          ]
        }
      ]
    },
    {
      "cell_type": "code",
      "source": [
        "# The total number of turns should come out to 10.\n",
        "num_turn = 0\n",
        "for message in m.chat_memory.messages:\n",
        "    num_turn += 1\n",
        "    print(\"#turn:\", num_turn)\n",
        "    print(message.content)"
      ],
      "metadata": {
        "id": "wZFT9o9E-DsG",
        "colab": {
          "base_uri": "https://localhost:8080/"
        },
        "outputId": "18a8493a-ad52-4c3d-fc9e-438cd54bc486"
      },
      "execution_count": 19,
      "outputs": [
        {
          "output_type": "stream",
          "name": "stdout",
          "text": [
            "#turn: 1\n",
            "Hi, my name is Seungjae Rim. Can you recommend a place to travel in the USA? Please answer in 20 to 100 characters.\n",
            "#turn: 2\n",
            "Nice to meet you, Seungjae! Consider visiting Grand Canyon, Arizona - breathtaking views and stunning natural beauty.\n",
            "#turn: 3\n",
            "Actually, I've already been there. Can you recommend somewhere else?\n",
            "#turn: 4\n",
            "You've been to the Grand Canyon. How about Yellowstone National Park, Wyoming - geysers, hot springs, and diverse wildlife?\n",
            "#turn: 5\n",
            "Please tell me the representative symbols of Yellowstone National Park.\n",
            "#turn: 6\n",
            "Yellowstone National Park's representative symbols include:\n",
            "\n",
            "1. The American Bison (also known as the American Buffalo)\n",
            "2. The Grizzly Bear\n",
            "3. The Bald Eagle\n",
            "4. The Cutthroat Trout (a native fish species)\n",
            "5. The Pronghorn Antelope\n",
            "#turn: 7\n",
            "Are there any places in the city worth sightseeing other than natural scenery?\n",
            "#turn: 8\n",
            "Besides natural scenery, Yellowstone has some fascinating man-made attractions. \n",
            "\n",
            "1. The Old Faithful Inn: A historic hotel built in 1904, offering a glimpse into the park's early days.\n",
            "2. The Mammoth Hot Springs Hotel: A charming hotel with a rich history, built in 1937.\n",
            "3. The Grant Village Visitor Center: A hub for park information and exhibits showcasing the region's geology and wildlife.\n",
            "4. The Museum of the National Park Ranger: A unique museum showcasing the history of park rangers and their work in Yellowstone.\n",
            "\n",
            "These places offer a glimpse into the park's human history and culture.\n",
            "#turn: 9\n",
            "Please summarize all previous messages.\n",
            "#turn: 10\n",
            "Here's a summary of our conversation:\n",
            "\n",
            "- I recommended visiting Grand Canyon, Arizona, but you mentioned you've already been there.\n",
            "- I suggested visiting Yellowstone National Park, Wyoming, as an alternative.\n",
            "- I listed the representative symbols of Yellowstone National Park, including the American Bison, Grizzly Bear, Bald Eagle, Cutthroat Trout, and Pronghorn Antelope.\n",
            "- I mentioned some man-made attractions in the park worth sightseeing, such as the Old Faithful Inn, Mammoth Hot Springs Hotel, Grant Village Visitor Center, and the Museum of the National Park Ranger.\n"
          ]
        }
      ]
    },
    {
      "cell_type": "markdown",
      "source": [
        "# 2."
      ],
      "metadata": {
        "id": "vWcvFHPKBqh2"
      }
    },
    {
      "cell_type": "code",
      "source": [
        "### EDIT HERE ###\n",
        "prompt1 = ChatPromptTemplate.from_template(\"What is the hobby of {name}? ({name}'s information: {information})\")\n",
        "chain1 = prompt1 | llm | StrOutputParser()\n",
        "\n",
        "prompt2 = ChatPromptTemplate.from_template(\"What is a good place for the hobby {hobby}?\")\n",
        "chain2 = {\"hobby\": chain1} | prompt2 | llm | StrOutputParser()\n",
        "\n",
        "prompt3 = ChatPromptTemplate.from_template(\"Translate the phrase '{location}' to {language}.\")\n",
        "chain3 = (\n",
        "    {\"location\": chain2, \"language\": itemgetter(\"language\")}\n",
        "    | prompt3\n",
        "    | llm\n",
        "    | StrOutputParser()\n",
        ")\n",
        "\n",
        "################"
      ],
      "metadata": {
        "id": "DQG208ggFjj7"
      },
      "execution_count": 31,
      "outputs": []
    },
    {
      "cell_type": "code",
      "source": [
        "def recommend_location_in_language(input_data) -> str:\n",
        "    \"\"\"\n",
        "    Arguments:\n",
        "        input_data (dict): A dictionary containing input variables\n",
        "    Returns:\n",
        "        response (str): A string containing the final recommendation translated into the target language.\n",
        "    \"\"\"\n",
        "    ### EDIT HERE ###\n",
        "\n",
        "    response = chain3.invoke(input_data)\n",
        "\n",
        "    ##################\n",
        "\n",
        "    return response\n",
        "\n",
        "result = recommend_location_in_language({\"name\": \"Seungjae\", \"information\": \"1.I like to play table tennis.\\n2. I like playing video games\\n3. I like watching livestreaming\", \"language\": \"French\"})"
      ],
      "metadata": {
        "id": "wnbRtUTKCI5g"
      },
      "execution_count": 32,
      "outputs": []
    },
    {
      "cell_type": "code",
      "source": [
        "print(result)"
      ],
      "metadata": {
        "id": "xld5viMYCJps",
        "colab": {
          "base_uri": "https://localhost:8080/"
        },
        "outputId": "c5c20254-8be9-47f4-ef28-73d099abbe26"
      },
      "execution_count": 33,
      "outputs": [
        {
          "output_type": "stream",
          "name": "stdout",
          "text": [
            "En fonction des loisirs de Seungjae, un bon endroit pour qu'il puisse s'engager dans ces activités pourrait être :\n",
            "\n",
            "1. Un club de tennis de table local ou un centre communautaire où il peut jouer avec d'autres amateurs.\n",
            "2. Un salon de jeux vidéo ou un équipement de jeu de son ami à la maison où il peut jouer à des jeux vidéo.\n",
            "3. Des plateformes en ligne telles que Twitch ou YouTube Live où il peut regarder ses streamers préférés et s'engager avec leurs communautés.\n",
            "\n",
            "Alternativement, un bon endroit pour Seungjae pourrait être un centre de divertissement polyvalent qui offre une combinaison de ces activités, telle que :\n",
            "\n",
            "- Un complexe sportif avec une salle de tennis de table et des zones de jeux.\n",
            "- Un café de jeux vidéo ou un centre de réalité virtuelle de jeux vidéo.\n",
            "- Un centre communautaire avec un salon de jeux vidéo et une zone sportive.\n",
            "\n",
            "Finalement, le meilleur endroit pour Seungjae dépendrait de ses préférences personnelles et des activités spécifiques qu'il aime le plus.\n"
          ]
        }
      ]
    },
    {
      "cell_type": "markdown",
      "source": [
        "# Make sure to save both the code and output values prior to submission."
      ],
      "metadata": {
        "id": "ycYSGMH9O6DJ"
      }
    }
  ]
}