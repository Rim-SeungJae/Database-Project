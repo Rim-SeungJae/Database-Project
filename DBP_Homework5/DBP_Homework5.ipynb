{
  "cells": [
    {
      "cell_type": "markdown",
      "metadata": {
        "id": "J7KpvbxjygS2"
      },
      "source": [
        "# Database Project (SWE3033) (Fall 2024)\n",
        "# Homework #5 (50pts, Due date: 11/5)"
      ]
    },
    {
      "cell_type": "markdown",
      "metadata": {
        "id": "xsL7H2SUyeaS"
      },
      "source": [
        "**Instruction:** In this homework, we provide you with a jupyter notebook file (DBP_Homework5.ipynb). You should follow the instructions in these documents carefully."
      ]
    },
    {
      "cell_type": "markdown",
      "metadata": {
        "id": "doZ35oqWyqLD"
      },
      "source": [
        "**Submit two files as follows**:\n",
        "- `DBP_Homework5_StudentID.zip`\n",
        "\t- `DBP_Homework5_StudentID.ipynb`\n",
        "\t- `DBP_Homework5_StudentID.pdf`\n",
        "   "
      ]
    },
    {
      "cell_type": "markdown",
      "metadata": {
        "id": "r0swrvAkSgnD"
      },
      "source": [
        "**Important:** When submitting, you must delete your ***CONNECTION_STRING***.\n",
        "- Your Username and Password information are here.\n",
        "- Be sure to remove this before submitting."
      ]
    },
    {
      "cell_type": "markdown",
      "metadata": {
        "id": "J9QNtt7NyuMt"
      },
      "source": [
        "### Install pymongo library"
      ]
    },
    {
      "cell_type": "code",
      "execution_count": 1,
      "metadata": {
        "colab": {
          "base_uri": "https://localhost:8080/"
        },
        "id": "oUeUCAsKHQQ6",
        "outputId": "5dda2524-137d-49fc-c47e-dbf7c805d309"
      },
      "outputs": [
        {
          "output_type": "stream",
          "name": "stdout",
          "text": [
            "Collecting pymongo\n",
            "  Downloading pymongo-4.10.1-cp310-cp310-manylinux_2_17_x86_64.manylinux2014_x86_64.whl.metadata (22 kB)\n",
            "Collecting dnspython<3.0.0,>=1.16.0 (from pymongo)\n",
            "  Downloading dnspython-2.7.0-py3-none-any.whl.metadata (5.8 kB)\n",
            "Downloading pymongo-4.10.1-cp310-cp310-manylinux_2_17_x86_64.manylinux2014_x86_64.whl (1.4 MB)\n",
            "\u001b[2K   \u001b[90m━━━━━━━━━━━━━━━━━━━━━━━━━━━━━━━━━━━━━━━━\u001b[0m \u001b[32m1.4/1.4 MB\u001b[0m \u001b[31m16.2 MB/s\u001b[0m eta \u001b[36m0:00:00\u001b[0m\n",
            "\u001b[?25hDownloading dnspython-2.7.0-py3-none-any.whl (313 kB)\n",
            "\u001b[2K   \u001b[90m━━━━━━━━━━━━━━━━━━━━━━━━━━━━━━━━━━━━━━━━\u001b[0m \u001b[32m313.6/313.6 kB\u001b[0m \u001b[31m17.9 MB/s\u001b[0m eta \u001b[36m0:00:00\u001b[0m\n",
            "\u001b[?25hInstalling collected packages: dnspython, pymongo\n",
            "Successfully installed dnspython-2.7.0 pymongo-4.10.1\n"
          ]
        }
      ],
      "source": [
        "!pip install pymongo"
      ]
    },
    {
      "cell_type": "markdown",
      "metadata": {
        "id": "CPAUJE3EyxO-"
      },
      "source": [
        "### Import required library"
      ]
    },
    {
      "cell_type": "code",
      "execution_count": 2,
      "metadata": {
        "id": "HMf9GVZzHx0v"
      },
      "outputs": [],
      "source": [
        "import os\n",
        "import time\n",
        "import json\n",
        "from tqdm import tqdm\n",
        "\n",
        "import pymongo\n",
        "from pymongo import MongoClient"
      ]
    },
    {
      "cell_type": "markdown",
      "metadata": {
        "id": "2WrVwNJtzBsg"
      },
      "source": [
        "# 1."
      ]
    },
    {
      "cell_type": "markdown",
      "metadata": {
        "id": "vILYImfvzIMq"
      },
      "source": [
        "### a. Create a database and a collection. Specify the name of the database as ‘airbnb’."
      ]
    },
    {
      "cell_type": "code",
      "execution_count": 22,
      "metadata": {
        "id": "LqM6XocYH7R4",
        "colab": {
          "base_uri": "https://localhost:8080/"
        },
        "outputId": "59703b4c-f100-4809-8b81-008d0f9cf88f"
      },
      "outputs": [
        {
          "output_type": "stream",
          "name": "stdout",
          "text": [
            "MongoClient(host=['seungjaerim-shard-00-02.da7mo.mongodb.net:27017', 'seungjaerim-shard-00-01.da7mo.mongodb.net:27017', 'seungjaerim-shard-00-00.da7mo.mongodb.net:27017'], document_class=dict, tz_aware=False, connect=True, retrywrites=True, w='majority', appname='SeungjaeRim', authsource='admin', replicaset='atlas-k544ed-shard-0', tls=True)\n",
            "Database(MongoClient(host=['seungjaerim-shard-00-02.da7mo.mongodb.net:27017', 'seungjaerim-shard-00-01.da7mo.mongodb.net:27017', 'seungjaerim-shard-00-00.da7mo.mongodb.net:27017'], document_class=dict, tz_aware=False, connect=True, retrywrites=True, w='majority', appname='SeungjaeRim', authsource='admin', replicaset='atlas-k544ed-shard-0', tls=True), 'airbnb')\n",
            "Collection(Database(MongoClient(host=['seungjaerim-shard-00-02.da7mo.mongodb.net:27017', 'seungjaerim-shard-00-01.da7mo.mongodb.net:27017', 'seungjaerim-shard-00-00.da7mo.mongodb.net:27017'], document_class=dict, tz_aware=False, connect=True, retrywrites=True, w='majority', appname='SeungjaeRim', authsource='admin', replicaset='atlas-k544ed-shard-0', tls=True), 'airbnb'), 'listings')\n"
          ]
        }
      ],
      "source": [
        "# ============= EDIT HERE =============\n",
        "my_client = MongoClient(CONNECTION_STRING)\n",
        "database = my_client['airbnb']\n",
        "collection = database['listings']\n",
        "# =====================================\n",
        "\n",
        "print(my_client)\n",
        "print(database)\n",
        "print(collection)"
      ]
    },
    {
      "cell_type": "markdown",
      "metadata": {
        "id": "_YwsPqwo0gMO"
      },
      "source": [
        "### b. Save the provided documents to a collection and retrieve one document."
      ]
    },
    {
      "cell_type": "code",
      "execution_count": 39,
      "metadata": {
        "id": "Djc0sYv-0chQ",
        "colab": {
          "base_uri": "https://localhost:8080/"
        },
        "outputId": "1dda8ac6-99ac-4be5-b957-350b8e116382"
      },
      "outputs": [
        {
          "output_type": "stream",
          "name": "stdout",
          "text": [
            "# documents: 1000\n",
            "Sample:\n",
            " {'_id': 11627443, 'name': 'Upper East Side cozy private room', 'property_type': 'Apartment', 'room_type': 'Private room', 'accommodates': 2, 'beds': 1.0, 'amenities': ['Internet', 'Wireless Internet', 'Air conditioning', 'Kitchen', 'Elevator in building', 'Heating', 'Washer', 'Dryer', 'Smoke detector', 'Carbon monoxide detector', 'Essentials', 'Hangers', 'Hair dryer', 'translation missing: en.hosting_amenity_49', 'translation missing: en.hosting_amenity_50'], 'price': 80.0, 'text': 'Nice and cozy private  fully furnished bedroom available in a 2 bedroom converted apartment. Amazing neighborhood with bars, restaurants, grocery stores, pharmacies etc.'}\n"
          ]
        }
      ],
      "source": [
        "collection.drop()\n",
        "\n",
        "doc_list = []\n",
        "for line in open('airbnb-listings-newyork.json', 'r'):\n",
        "    doc_list.append(json.loads(line))\n",
        "\n",
        "# ============= EDIT HERE =============\n",
        "\n",
        "try:\n",
        "    collection.insert_many(doc_list)\n",
        "except pymongo.errrors.BulkWriteError:\n",
        "    pass\n",
        "\n",
        "# =====================================\n",
        "print(\"# documents:\",len(doc_list))\n",
        "print(\"Sample:\\n\", doc_list[0])"
      ]
    },
    {
      "cell_type": "markdown",
      "metadata": {
        "id": "8zOk27Dd0JX2"
      },
      "source": [
        "# 2."
      ]
    },
    {
      "cell_type": "markdown",
      "metadata": {
        "id": "9AfypgXF0MGl"
      },
      "source": [
        "### a. Count the number of listings with 2 or more beds."
      ]
    },
    {
      "cell_type": "code",
      "execution_count": 40,
      "metadata": {
        "id": "4gHDYBGtM643",
        "colab": {
          "base_uri": "https://localhost:8080/"
        },
        "outputId": "20fc57cd-bf02-4415-b9a3-5fdb7c2b5a2c"
      },
      "outputs": [
        {
          "output_type": "stream",
          "name": "stdout",
          "text": [
            "295\n"
          ]
        }
      ],
      "source": [
        "# ============= EDIT HERE =============\n",
        "\n",
        "num_listings = collection.count_documents({'beds': {'$gte': 2}})\n",
        "\n",
        "# =====================================\n",
        "\n",
        "print(num_listings)"
      ]
    },
    {
      "cell_type": "markdown",
      "metadata": {
        "id": "V1DqiKf01dBZ"
      },
      "source": [
        "### b. Apply a 20% discount to a listing price with a room type of ‘Shared room,’ and then retrieve the top 5 listings with a room type of ‘Shared room’, sorted in descending order."
      ]
    },
    {
      "cell_type": "code",
      "execution_count": 41,
      "metadata": {
        "id": "BqgVzEg51h1p",
        "colab": {
          "base_uri": "https://localhost:8080/"
        },
        "outputId": "c6e2f3d3-6128-49a6-f8de-abe45bf5dd1f"
      },
      "outputs": [
        {
          "output_type": "stream",
          "name": "stdout",
          "text": [
            "{'_id': 7981341, 'price': 160.0}\n",
            "{'_id': 8064530, 'price': 120.0}\n",
            "{'_id': 11575453, 'price': 100.0}\n",
            "{'_id': 1906596, 'price': 100.0}\n",
            "{'_id': 16913861, 'price': 80.0}\n"
          ]
        }
      ],
      "source": [
        "# ============= EDIT HERE =============\n",
        "sorted_shared_room_docs = collection.find({'room_type': 'Shared room'}, {'_id': 1, 'price': 1}).sort('price', pymongo.DESCENDING)\n",
        "top5_listings = list(sorted_shared_room_docs)[:5]\n",
        "\n",
        "for listing in top5_listings:\n",
        "    listing['price'] *= 0.8\n",
        "\n",
        "\n",
        "# =====================================\n",
        "\n",
        "print(*top5_listings, sep='\\n')"
      ]
    },
    {
      "cell_type": "markdown",
      "metadata": {
        "id": "eVF35zJV1rpr"
      },
      "source": [
        "# 3."
      ]
    },
    {
      "cell_type": "markdown",
      "metadata": {
        "id": "wRahhjliPhOr"
      },
      "source": [
        "#### init state"
      ]
    },
    {
      "cell_type": "code",
      "execution_count": 27,
      "metadata": {
        "id": "uVZOecTfPkRD",
        "colab": {
          "base_uri": "https://localhost:8080/"
        },
        "outputId": "c775d9bf-3b07-43b7-814f-6b129573fb03"
      },
      "outputs": [
        {
          "output_type": "stream",
          "name": "stdout",
          "text": [
            "{'_id': 7858169, 'amenities': ['Internet', 'Wireless Internet', 'Air conditioning', 'Kitchen', 'Elevator in building', 'Buzzer/wireless intercom', 'Heating', 'Smoke detector', 'Carbon monoxide detector', 'Essentials']}\n",
            "{'_id': 13309763, 'amenities': ['TV', 'Cable TV', 'Internet', 'Wireless Internet', 'Air conditioning', 'Kitchen', 'Breakfast', 'Elevator in building', 'Buzzer/wireless intercom', 'Heating', 'Family/kid friendly', 'Washer', 'Dryer', 'Smoke detector', 'Carbon monoxide detector', 'First aid kit', 'Fire extinguisher', 'Essentials', 'Shampoo', 'Hangers', 'Hair dryer', 'Iron', 'Laptop friendly workspace']}\n",
            "{'_id': 15393322, 'amenities': ['TV', 'Internet', 'Wireless Internet', 'Air conditioning', 'Kitchen', 'Pets allowed', 'Elevator in building', 'Heating', 'Family/kid friendly', 'Washer', 'Dryer', 'Smoke detector', 'Essentials', 'Shampoo', 'Hangers', 'Hair dryer', 'Iron', 'Laptop friendly workspace']}\n",
            "{'_id': 14857830, 'amenities': ['TV', 'Internet', 'Wireless Internet', 'Air conditioning', 'Kitchen', 'Elevator in building', 'Heating', 'Washer', 'Dryer', 'Carbon monoxide detector', 'Essentials', 'Shampoo', 'Lock on bedroom door', 'Hangers', 'Hair dryer', 'Iron', 'translation missing: en.hosting_amenity_49', 'translation missing: en.hosting_amenity_50']}\n",
            "{'_id': 7648634, 'amenities': ['TV', 'Internet', 'Wireless Internet', 'Air conditioning', 'Kitchen', 'Heating', 'Smoke detector', 'Carbon monoxide detector', 'Fire extinguisher', 'Essentials', 'Shampoo', 'Hangers', 'Hair dryer', 'Iron', 'translation missing: en.hosting_amenity_49', 'translation missing: en.hosting_amenity_50']}\n",
            "{'_id': 15872852, 'amenities': ['TV', 'Wireless Internet', 'Air conditioning', 'Kitchen', 'Heating', 'Smoke detector', 'Carbon monoxide detector', 'Essentials', 'Lock on bedroom door', 'Hangers', 'Hair dryer', 'Iron', 'Laptop friendly workspace', 'translation missing: en.hosting_amenity_49', 'translation missing: en.hosting_amenity_50']}\n",
            "{'_id': 3530517, 'amenities': ['TV', 'Cable TV', 'Internet', 'Wireless Internet', 'Air conditioning', 'Kitchen', 'Breakfast', 'Buzzer/wireless intercom', 'Heating', 'Smoke detector', 'Carbon monoxide detector', 'First aid kit', 'Safety card', 'Fire extinguisher', 'Essentials', 'Shampoo', '24-hour check-in', 'Hangers', 'Hair dryer', 'Iron', 'Laptop friendly workspace', 'translation missing: en.hosting_amenity_49', 'translation missing: en.hosting_amenity_50', 'Self Check-In', 'Lockbox']}\n",
            "{'_id': 16363434, 'amenities': ['TV', 'Cable TV', 'Internet', 'Wireless Internet', 'Air conditioning', 'Kitchen', 'Heating', 'Family/kid friendly', 'Washer', 'Dryer', 'Smoke detector', 'Carbon monoxide detector', 'Fire extinguisher', 'Essentials', 'Hangers', 'Iron']}\n",
            "{'_id': 14824160, 'amenities': ['Wireless Internet', 'Air conditioning', 'Kitchen', 'Pets allowed', 'Heating', 'Family/kid friendly', 'Suitable for events', 'Smoke detector', 'Carbon monoxide detector', 'First aid kit', 'Safety card', 'Fire extinguisher', 'Essentials', 'Laptop friendly workspace', 'translation missing: en.hosting_amenity_50']}\n",
            "{'_id': 12088888, 'amenities': ['TV', 'Cable TV', 'Internet', 'Wireless Internet', 'Air conditioning', 'Kitchen', 'Buzzer/wireless intercom', 'Heating', 'Family/kid friendly', 'Washer', 'Dryer', 'Smoke detector', 'Essentials', 'Hangers', 'Hair dryer', 'Iron', 'Laptop friendly workspace']}\n",
            "{'_id': 1294438, 'amenities': ['Internet', 'Wireless Internet', 'Air conditioning', 'Kitchen', 'Buzzer/wireless intercom', 'Heating', 'Suitable for events', 'Smoke detector', 'translation missing: en.hosting_amenity_49', 'translation missing: en.hosting_amenity_50']}\n",
            "{'_id': 13995614, 'amenities': ['TV', 'Wireless Internet', 'Air conditioning', 'Kitchen', 'Smoking allowed', 'Indoor fireplace', 'Family/kid friendly', 'Smoke detector', 'Carbon monoxide detector', 'Essentials', 'Shampoo', 'Hangers', 'Hair dryer', 'Laptop friendly workspace', 'translation missing: en.hosting_amenity_50']}\n",
            "{'_id': 522081, 'amenities': ['Internet', 'Wireless Internet', 'Air conditioning', 'Kitchen', 'Pets live on this property', 'Dog(s)', 'Elevator in building', 'Hot tub', 'Buzzer/wireless intercom', 'Heating', 'Family/kid friendly', 'Washer', 'Dryer', 'Smoke detector', 'Carbon monoxide detector', 'First aid kit', 'Fire extinguisher', 'Essentials', 'Shampoo', 'Hangers', 'Hair dryer', 'Iron', 'Laptop friendly workspace', 'translation missing: en.hosting_amenity_50']}\n"
          ]
        }
      ],
      "source": [
        "for listing in collection.find({'property_type': 'Loft'}, {'_id': 1, 'amenities': 1}):\n",
        "    print(listing)"
      ]
    },
    {
      "cell_type": "markdown",
      "metadata": {
        "id": "ig8oGobo1s6-"
      },
      "source": [
        "### a. Update the value of ‘amenities’ to [‘Internet’, ‘Shampoo’] for documents in the collection whose ‘property_type’ is ‘Loft’.\n"
      ]
    },
    {
      "cell_type": "code",
      "execution_count": 28,
      "metadata": {
        "id": "z8QnT1VX1hzs",
        "colab": {
          "base_uri": "https://localhost:8080/"
        },
        "outputId": "003959f0-8e7c-47f7-9f4a-f6045acaa007"
      },
      "outputs": [
        {
          "output_type": "stream",
          "name": "stdout",
          "text": [
            "{'_id': 7858169, 'amenities': ['Internet', 'Shampoo']}\n",
            "{'_id': 13309763, 'amenities': ['Internet', 'Shampoo']}\n",
            "{'_id': 15393322, 'amenities': ['Internet', 'Shampoo']}\n",
            "{'_id': 14857830, 'amenities': ['Internet', 'Shampoo']}\n",
            "{'_id': 7648634, 'amenities': ['Internet', 'Shampoo']}\n",
            "{'_id': 15872852, 'amenities': ['Internet', 'Shampoo']}\n",
            "{'_id': 3530517, 'amenities': ['Internet', 'Shampoo']}\n",
            "{'_id': 16363434, 'amenities': ['Internet', 'Shampoo']}\n",
            "{'_id': 14824160, 'amenities': ['Internet', 'Shampoo']}\n",
            "{'_id': 12088888, 'amenities': ['Internet', 'Shampoo']}\n",
            "{'_id': 1294438, 'amenities': ['Internet', 'Shampoo']}\n",
            "{'_id': 13995614, 'amenities': ['Internet', 'Shampoo']}\n",
            "{'_id': 522081, 'amenities': ['Internet', 'Shampoo']}\n"
          ]
        }
      ],
      "source": [
        "# ============= EDIT HERE =============\n",
        "\n",
        "collection.update_many(\n",
        "    {'property_type': 'Loft'},\n",
        "    {'$set': {'amenities': ['Internet', 'Shampoo']}}\n",
        ")\n",
        "\n",
        "# =====================================\n",
        "for listing in collection.find({'property_type': 'Loft'}, {'_id': 1, 'amenities': 1}):\n",
        "    print(listing)"
      ]
    },
    {
      "cell_type": "markdown",
      "metadata": {
        "id": "XHUxVsuj161X"
      },
      "source": [
        "### b. Add the element ‘Heating’ to the list of ‘amenities’ for the documents in the collection whose ‘property_type’ is ‘Loft.\n"
      ]
    },
    {
      "cell_type": "code",
      "execution_count": 29,
      "metadata": {
        "id": "7rTMzMtz1hxX",
        "colab": {
          "base_uri": "https://localhost:8080/"
        },
        "outputId": "7ed2a193-e6bb-4709-c721-5da5ad38754a"
      },
      "outputs": [
        {
          "output_type": "stream",
          "name": "stdout",
          "text": [
            "{'_id': 7858169, 'amenities': ['Internet', 'Shampoo', 'Heating']}\n",
            "{'_id': 13309763, 'amenities': ['Internet', 'Shampoo', 'Heating']}\n",
            "{'_id': 15393322, 'amenities': ['Internet', 'Shampoo', 'Heating']}\n",
            "{'_id': 14857830, 'amenities': ['Internet', 'Shampoo', 'Heating']}\n",
            "{'_id': 7648634, 'amenities': ['Internet', 'Shampoo', 'Heating']}\n",
            "{'_id': 15872852, 'amenities': ['Internet', 'Shampoo', 'Heating']}\n",
            "{'_id': 3530517, 'amenities': ['Internet', 'Shampoo', 'Heating']}\n",
            "{'_id': 16363434, 'amenities': ['Internet', 'Shampoo', 'Heating']}\n",
            "{'_id': 14824160, 'amenities': ['Internet', 'Shampoo', 'Heating']}\n",
            "{'_id': 12088888, 'amenities': ['Internet', 'Shampoo', 'Heating']}\n",
            "{'_id': 1294438, 'amenities': ['Internet', 'Shampoo', 'Heating']}\n",
            "{'_id': 13995614, 'amenities': ['Internet', 'Shampoo', 'Heating']}\n",
            "{'_id': 522081, 'amenities': ['Internet', 'Shampoo', 'Heating']}\n"
          ]
        }
      ],
      "source": [
        "# ============= EDIT HERE =============\n",
        "\n",
        "collection.update_many(\n",
        "    {'property_type': 'Loft'},\n",
        "    {'$push': {'amenities': 'Heating'}}\n",
        ")\n",
        "\n",
        "\n",
        "# =====================================\n",
        "for listing in collection.find({'property_type': 'Loft'}, {'_id': 1, 'amenities': 1}):\n",
        "    print(listing)"
      ]
    },
    {
      "cell_type": "markdown",
      "metadata": {
        "id": "y36TfRybSRg5"
      },
      "source": [
        "# Make sure to save both the code and output values prior to submission.\n",
        "# You must delete your CONNECTION_STRING before submitting."
      ]
    }
  ],
  "metadata": {
    "colab": {
      "provenance": []
    },
    "kernelspec": {
      "display_name": "Python 3",
      "name": "python3"
    },
    "language_info": {
      "codemirror_mode": {
        "name": "ipython",
        "version": 3
      },
      "file_extension": ".py",
      "mimetype": "text/x-python",
      "name": "python",
      "nbconvert_exporter": "python",
      "pygments_lexer": "ipython3",
      "version": "3.10.0"
    }
  },
  "nbformat": 4,
  "nbformat_minor": 0
}