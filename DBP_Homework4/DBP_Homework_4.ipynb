{
  "cells": [
    {
      "cell_type": "code",
      "source": [
        "!pip install pyspark"
      ],
      "metadata": {
        "colab": {
          "base_uri": "https://localhost:8080/"
        },
        "id": "SPspf-MlDGoN",
        "outputId": "771585b4-5ae0-423d-80fa-e81cf27bf6cb"
      },
      "id": "SPspf-MlDGoN",
      "execution_count": 1,
      "outputs": [
        {
          "output_type": "stream",
          "name": "stdout",
          "text": [
            "Requirement already satisfied: pyspark in /usr/local/lib/python3.10/dist-packages (3.5.3)\n",
            "Requirement already satisfied: py4j==0.10.9.7 in /usr/local/lib/python3.10/dist-packages (from pyspark) (0.10.9.7)\n"
          ]
        }
      ]
    },
    {
      "cell_type": "markdown",
      "id": "ddae8da6",
      "metadata": {
        "id": "ddae8da6"
      },
      "source": [
        "# Database Project (SWE3033) (Fall 2024)\n",
        "# Homework #4 (50pts, Due date: 10/22)"
      ]
    },
    {
      "cell_type": "markdown",
      "id": "5f53269c",
      "metadata": {
        "id": "5f53269c"
      },
      "source": [
        "**Instruction:** In this homework, we provide you with a jupyter notebook file (DBP_Homework#4.ipynb). You should follow the instructions in these documents carefully."
      ]
    },
    {
      "cell_type": "markdown",
      "id": "0fa8721c",
      "metadata": {
        "id": "0fa8721c"
      },
      "source": [
        "**Submit two files as follows**:\n",
        "- `DBP_Homework#4_StudentID_Name.zip`\n",
        "\t- `DBP_Homework#4_StudentID_Name.ipynb`\n",
        "\t- `DBP_Homework#4_StudentID_Name.pdf`\n",
        "   "
      ]
    },
    {
      "cell_type": "code",
      "execution_count": 2,
      "id": "e20f089c",
      "metadata": {
        "scrolled": true,
        "id": "e20f089c"
      },
      "outputs": [],
      "source": [
        "# Import the necessary libraries.\n",
        "from pyspark import SparkContext\n",
        "\n",
        "# Create an RDD variable in the cluster by linking data to a spark cluter\n",
        "sc = SparkContext()"
      ]
    },
    {
      "cell_type": "markdown",
      "id": "70b2a96f",
      "metadata": {
        "id": "70b2a96f"
      },
      "source": [
        "### 1. [10pts]"
      ]
    },
    {
      "cell_type": "code",
      "execution_count": 3,
      "id": "fa94afb6",
      "metadata": {
        "id": "fa94afb6",
        "colab": {
          "base_uri": "https://localhost:8080/"
        },
        "outputId": "de9c084c-1aa5-4c5b-bd5d-c90994f6bf2e"
      },
      "outputs": [
        {
          "output_type": "stream",
          "name": "stdout",
          "text": [
            "Pat: defaultdict(<class 'int'>, {'E-mart': 1, 'Starbucks': 2, 'GS25': 1, 'HomePlus': 1, 'CU': 1})\n",
            "Mat: defaultdict(<class 'int'>, {'Starbucks': 2, 'E-mart': 1, 'LotteMart': 2})\n"
          ]
        }
      ],
      "source": [
        "#### EDIT HERE ####\n",
        "\n",
        "# Convert python variable to RDD (HINE: parallelize())\n",
        "pat = sc.parallelize(['E-mart', 'Starbucks', 'GS25', 'Starbucks', 'HomePlus', 'CU'])\n",
        "mat = sc.parallelize(['Starbucks', 'E-mart', 'Starbucks', 'LotteMart', 'LotteMart'])\n",
        "\n",
        "pat_visit_countByValue = pat.countByValue()\n",
        "mat_visit_countByValue = mat.countByValue()\n",
        "\n",
        "\n",
        "###################\n",
        "\n",
        "print(\"Pat:\", pat_visit_countByValue)\n",
        "print(\"Mat:\", mat_visit_countByValue)"
      ]
    },
    {
      "cell_type": "markdown",
      "id": "90be4032",
      "metadata": {
        "id": "90be4032"
      },
      "source": [
        "### 2. [10pts]"
      ]
    },
    {
      "cell_type": "code",
      "execution_count": 7,
      "id": "4dd99a26",
      "metadata": {
        "colab": {
          "base_uri": "https://localhost:8080/"
        },
        "id": "4dd99a26",
        "outputId": "27ab95ee-15ae-4177-9ae7-5bd442ca2b1d"
      },
      "outputs": [
        {
          "output_type": "stream",
          "name": "stdout",
          "text": [
            "[('banana', 4), ('apple', 5)]\n",
            "[('banana', 4), ('apple', 5)]\n"
          ]
        }
      ],
      "source": [
        "data = sc.parallelize([('apple', 1), ('apple', 1), ('banana', 1), ('apple', 1), ('banana', 1), ('apple', 1), ('apple', 1), ('banana', 1), ('banana', 1)])\n",
        "\n",
        "#### EDIT HERE ####\n",
        "\n",
        "from operator import add\n",
        "\n",
        "data_from_groupByKey = data.groupByKey().mapValues(sum).collect()\n",
        "data_from_reduceByKey = data.reduceByKey(add).collect()\n",
        "\n",
        "###################\n",
        "\n",
        "print(data_from_groupByKey)\n",
        "print(data_from_reduceByKey)"
      ]
    },
    {
      "cell_type": "markdown",
      "id": "aaaec408",
      "metadata": {
        "id": "aaaec408"
      },
      "source": [
        "### 3. [20pts]"
      ]
    },
    {
      "cell_type": "markdown",
      "id": "984757ad",
      "metadata": {
        "id": "984757ad"
      },
      "source": [
        "#### a."
      ]
    },
    {
      "cell_type": "code",
      "execution_count": 22,
      "id": "2cc1bd2e",
      "metadata": {
        "id": "2cc1bd2e",
        "colab": {
          "base_uri": "https://localhost:8080/"
        },
        "outputId": "562173b1-fc38-427c-f33b-cc2428db50a6"
      },
      "outputs": [
        {
          "output_type": "stream",
          "name": "stdout",
          "text": [
            "PythonRDD[114] at RDD at PythonRDD.scala:53\n",
            "PythonRDD[115] at RDD at PythonRDD.scala:53\n"
          ]
        }
      ],
      "source": [
        "#### EDIT HERE ####\n",
        "pat = sc.parallelize([('Thriller', 27), ('Everybody', 31), ('Everybody', 20), ('Billie_Jean', 1)])\n",
        "mat = sc.parallelize([('Thriller', 20), ('Sorry', 17), ('Sorry', 3), ('Billie_Jean', 2)])\n",
        "\n",
        "pat_reduceByKey = pat.reduceByKey(add)\n",
        "mat_reduceByKey = mat.reduceByKey(add)\n",
        "\n",
        "###################\n",
        "print(pat_reduceByKey)\n",
        "print(mat_reduceByKey)"
      ]
    },
    {
      "cell_type": "markdown",
      "id": "efbaa847",
      "metadata": {
        "id": "efbaa847"
      },
      "source": [
        "#### b."
      ]
    },
    {
      "cell_type": "code",
      "execution_count": 17,
      "id": "bd1259c4",
      "metadata": {
        "id": "bd1259c4",
        "colab": {
          "base_uri": "https://localhost:8080/"
        },
        "outputId": "d13b1ea8-2d69-4dba-e045-6dae1ddc7a1f"
      },
      "outputs": [
        {
          "output_type": "stream",
          "name": "stdout",
          "text": [
            "PythonRDD[99] at RDD at PythonRDD.scala:53\n"
          ]
        }
      ],
      "source": [
        "#### EDIT HERE ####\n",
        "\n",
        "pat_mat_join = pat_reduceByKey.join(mat_reduceByKey)\n",
        "\n",
        "###################\n",
        "print(pat_mat_join)"
      ]
    },
    {
      "cell_type": "markdown",
      "id": "3f2a13bf",
      "metadata": {
        "id": "3f2a13bf"
      },
      "source": [
        "#### c."
      ]
    },
    {
      "cell_type": "code",
      "execution_count": 23,
      "id": "0e99944a",
      "metadata": {
        "id": "0e99944a",
        "colab": {
          "base_uri": "https://localhost:8080/"
        },
        "outputId": "e5865eed-beaf-423d-cb30-d712e023126c"
      },
      "outputs": [
        {
          "output_type": "stream",
          "name": "stdout",
          "text": [
            "[('Thriller', 47), ('Billie_Jean', 3)]\n"
          ]
        }
      ],
      "source": [
        "#### EDIT HERE ####\n",
        "\n",
        "pat_mat_result = pat_mat_join.map(lambda x: (x[0], x[1][0] + x[1][1])).collect()\n",
        "\n",
        "###################\n",
        "print(pat_mat_result)"
      ]
    },
    {
      "cell_type": "markdown",
      "id": "42abfa0e",
      "metadata": {
        "id": "42abfa0e"
      },
      "source": [
        "# Make sure to save both the code and output values prior to submission."
      ]
    }
  ],
  "metadata": {
    "kernelspec": {
      "display_name": "Python 3 (ipykernel)",
      "language": "python",
      "name": "python3"
    },
    "language_info": {
      "codemirror_mode": {
        "name": "ipython",
        "version": 3
      },
      "file_extension": ".py",
      "mimetype": "text/x-python",
      "name": "python",
      "nbconvert_exporter": "python",
      "pygments_lexer": "ipython3",
      "version": "3.9.13"
    },
    "colab": {
      "provenance": []
    }
  },
  "nbformat": 4,
  "nbformat_minor": 5
}